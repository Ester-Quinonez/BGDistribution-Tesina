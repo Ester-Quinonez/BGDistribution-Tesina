{
 "cells": [
  {
   "cell_type": "code",
   "execution_count": 1,
   "id": "5b7d8d42",
   "metadata": {},
   "outputs": [],
   "source": [
    "import pandas as pd\n",
    "import numpy as np\n",
    "import matplotlib.pyplot as plt"
   ]
  },
  {
   "cell_type": "code",
   "execution_count": 2,
   "id": "91170e15",
   "metadata": {},
   "outputs": [],
   "source": [
    "df = pd.read_csv('datos.csv')"
   ]
  },
  {
   "cell_type": "code",
   "execution_count": 3,
   "id": "6e95e381",
   "metadata": {},
   "outputs": [
    {
     "data": {
      "text/html": [
       "<div>\n",
       "<style scoped>\n",
       "    .dataframe tbody tr th:only-of-type {\n",
       "        vertical-align: middle;\n",
       "    }\n",
       "\n",
       "    .dataframe tbody tr th {\n",
       "        vertical-align: top;\n",
       "    }\n",
       "\n",
       "    .dataframe thead th {\n",
       "        text-align: right;\n",
       "    }\n",
       "</style>\n",
       "<table border=\"1\" class=\"dataframe\">\n",
       "  <thead>\n",
       "    <tr style=\"text-align: right;\">\n",
       "      <th></th>\n",
       "      <th>Country Name</th>\n",
       "      <th>Country Code</th>\n",
       "      <th>Indicator Name</th>\n",
       "      <th>Indicator Code</th>\n",
       "      <th>1960</th>\n",
       "      <th>1961</th>\n",
       "      <th>1962</th>\n",
       "      <th>1963</th>\n",
       "      <th>1964</th>\n",
       "      <th>1965</th>\n",
       "      <th>...</th>\n",
       "      <th>2013</th>\n",
       "      <th>2014</th>\n",
       "      <th>2015</th>\n",
       "      <th>2016</th>\n",
       "      <th>2017</th>\n",
       "      <th>2018</th>\n",
       "      <th>2019</th>\n",
       "      <th>2020</th>\n",
       "      <th>2021</th>\n",
       "      <th>Unnamed: 66</th>\n",
       "    </tr>\n",
       "  </thead>\n",
       "  <tbody>\n",
       "    <tr>\n",
       "      <th>0</th>\n",
       "      <td>Aruba</td>\n",
       "      <td>ABW</td>\n",
       "      <td>GDP per capita (current US$)</td>\n",
       "      <td>NY.GDP.PCAP.CD</td>\n",
       "      <td>NaN</td>\n",
       "      <td>NaN</td>\n",
       "      <td>NaN</td>\n",
       "      <td>NaN</td>\n",
       "      <td>NaN</td>\n",
       "      <td>NaN</td>\n",
       "      <td>...</td>\n",
       "      <td>26442.426801</td>\n",
       "      <td>26895.057167</td>\n",
       "      <td>28399.050131</td>\n",
       "      <td>28453.715565</td>\n",
       "      <td>29348.418969</td>\n",
       "      <td>30253.714235</td>\n",
       "      <td>31135.884356</td>\n",
       "      <td>23384.298791</td>\n",
       "      <td>NaN</td>\n",
       "      <td>NaN</td>\n",
       "    </tr>\n",
       "    <tr>\n",
       "      <th>1</th>\n",
       "      <td>Africa Eastern and Southern</td>\n",
       "      <td>AFE</td>\n",
       "      <td>GDP per capita (current US$)</td>\n",
       "      <td>NY.GDP.PCAP.CD</td>\n",
       "      <td>162.726325</td>\n",
       "      <td>162.555968</td>\n",
       "      <td>172.271022</td>\n",
       "      <td>199.784916</td>\n",
       "      <td>180.228774</td>\n",
       "      <td>199.517228</td>\n",
       "      <td>...</td>\n",
       "      <td>1748.905594</td>\n",
       "      <td>1736.242220</td>\n",
       "      <td>1556.316469</td>\n",
       "      <td>1446.533624</td>\n",
       "      <td>1629.404273</td>\n",
       "      <td>1541.031661</td>\n",
       "      <td>1511.309259</td>\n",
       "      <td>1360.878645</td>\n",
       "      <td>1557.722682</td>\n",
       "      <td>NaN</td>\n",
       "    </tr>\n",
       "    <tr>\n",
       "      <th>2</th>\n",
       "      <td>Afghanistan</td>\n",
       "      <td>AFG</td>\n",
       "      <td>GDP per capita (current US$)</td>\n",
       "      <td>NY.GDP.PCAP.CD</td>\n",
       "      <td>59.773234</td>\n",
       "      <td>59.860900</td>\n",
       "      <td>58.458009</td>\n",
       "      <td>78.706429</td>\n",
       "      <td>82.095307</td>\n",
       "      <td>101.108325</td>\n",
       "      <td>...</td>\n",
       "      <td>624.315455</td>\n",
       "      <td>614.223342</td>\n",
       "      <td>556.007221</td>\n",
       "      <td>512.012778</td>\n",
       "      <td>516.679862</td>\n",
       "      <td>485.668419</td>\n",
       "      <td>494.179350</td>\n",
       "      <td>516.747871</td>\n",
       "      <td>NaN</td>\n",
       "      <td>NaN</td>\n",
       "    </tr>\n",
       "    <tr>\n",
       "      <th>3</th>\n",
       "      <td>Africa Western and Central</td>\n",
       "      <td>AFW</td>\n",
       "      <td>GDP per capita (current US$)</td>\n",
       "      <td>NY.GDP.PCAP.CD</td>\n",
       "      <td>107.930722</td>\n",
       "      <td>113.080062</td>\n",
       "      <td>118.829461</td>\n",
       "      <td>123.441089</td>\n",
       "      <td>131.852423</td>\n",
       "      <td>138.524029</td>\n",
       "      <td>...</td>\n",
       "      <td>2157.494584</td>\n",
       "      <td>2212.914095</td>\n",
       "      <td>1894.322115</td>\n",
       "      <td>1673.843681</td>\n",
       "      <td>1613.490478</td>\n",
       "      <td>1704.135698</td>\n",
       "      <td>1777.852822</td>\n",
       "      <td>1709.764129</td>\n",
       "      <td>1774.921218</td>\n",
       "      <td>NaN</td>\n",
       "    </tr>\n",
       "    <tr>\n",
       "      <th>4</th>\n",
       "      <td>Angola</td>\n",
       "      <td>AGO</td>\n",
       "      <td>GDP per capita (current US$)</td>\n",
       "      <td>NY.GDP.PCAP.CD</td>\n",
       "      <td>NaN</td>\n",
       "      <td>NaN</td>\n",
       "      <td>NaN</td>\n",
       "      <td>NaN</td>\n",
       "      <td>NaN</td>\n",
       "      <td>NaN</td>\n",
       "      <td>...</td>\n",
       "      <td>5127.717243</td>\n",
       "      <td>5094.112329</td>\n",
       "      <td>3127.890598</td>\n",
       "      <td>1728.023754</td>\n",
       "      <td>2313.220584</td>\n",
       "      <td>2524.942483</td>\n",
       "      <td>2177.799015</td>\n",
       "      <td>1631.431691</td>\n",
       "      <td>2137.909393</td>\n",
       "      <td>NaN</td>\n",
       "    </tr>\n",
       "  </tbody>\n",
       "</table>\n",
       "<p>5 rows × 67 columns</p>\n",
       "</div>"
      ],
      "text/plain": [
       "                  Country Name Country Code                Indicator Name  \\\n",
       "0                        Aruba          ABW  GDP per capita (current US$)   \n",
       "1  Africa Eastern and Southern          AFE  GDP per capita (current US$)   \n",
       "2                  Afghanistan          AFG  GDP per capita (current US$)   \n",
       "3   Africa Western and Central          AFW  GDP per capita (current US$)   \n",
       "4                       Angola          AGO  GDP per capita (current US$)   \n",
       "\n",
       "   Indicator Code        1960        1961        1962        1963        1964  \\\n",
       "0  NY.GDP.PCAP.CD         NaN         NaN         NaN         NaN         NaN   \n",
       "1  NY.GDP.PCAP.CD  162.726325  162.555968  172.271022  199.784916  180.228774   \n",
       "2  NY.GDP.PCAP.CD   59.773234   59.860900   58.458009   78.706429   82.095307   \n",
       "3  NY.GDP.PCAP.CD  107.930722  113.080062  118.829461  123.441089  131.852423   \n",
       "4  NY.GDP.PCAP.CD         NaN         NaN         NaN         NaN         NaN   \n",
       "\n",
       "         1965  ...          2013          2014          2015          2016  \\\n",
       "0         NaN  ...  26442.426801  26895.057167  28399.050131  28453.715565   \n",
       "1  199.517228  ...   1748.905594   1736.242220   1556.316469   1446.533624   \n",
       "2  101.108325  ...    624.315455    614.223342    556.007221    512.012778   \n",
       "3  138.524029  ...   2157.494584   2212.914095   1894.322115   1673.843681   \n",
       "4         NaN  ...   5127.717243   5094.112329   3127.890598   1728.023754   \n",
       "\n",
       "           2017          2018          2019          2020         2021  \\\n",
       "0  29348.418969  30253.714235  31135.884356  23384.298791          NaN   \n",
       "1   1629.404273   1541.031661   1511.309259   1360.878645  1557.722682   \n",
       "2    516.679862    485.668419    494.179350    516.747871          NaN   \n",
       "3   1613.490478   1704.135698   1777.852822   1709.764129  1774.921218   \n",
       "4   2313.220584   2524.942483   2177.799015   1631.431691  2137.909393   \n",
       "\n",
       "   Unnamed: 66  \n",
       "0          NaN  \n",
       "1          NaN  \n",
       "2          NaN  \n",
       "3          NaN  \n",
       "4          NaN  \n",
       "\n",
       "[5 rows x 67 columns]"
      ]
     },
     "execution_count": 3,
     "metadata": {},
     "output_type": "execute_result"
    }
   ],
   "source": [
    "df.head()"
   ]
  },
  {
   "cell_type": "code",
   "execution_count": 4,
   "id": "6c7b8023",
   "metadata": {},
   "outputs": [
    {
     "data": {
      "text/html": [
       "<div>\n",
       "<style scoped>\n",
       "    .dataframe tbody tr th:only-of-type {\n",
       "        vertical-align: middle;\n",
       "    }\n",
       "\n",
       "    .dataframe tbody tr th {\n",
       "        vertical-align: top;\n",
       "    }\n",
       "\n",
       "    .dataframe thead th {\n",
       "        text-align: right;\n",
       "    }\n",
       "</style>\n",
       "<table border=\"1\" class=\"dataframe\">\n",
       "  <thead>\n",
       "    <tr style=\"text-align: right;\">\n",
       "      <th></th>\n",
       "      <th>Country Name</th>\n",
       "      <th>Country Code</th>\n",
       "      <th>Indicator Name</th>\n",
       "      <th>Indicator Code</th>\n",
       "      <th>1960</th>\n",
       "      <th>1961</th>\n",
       "      <th>1962</th>\n",
       "      <th>1963</th>\n",
       "      <th>1964</th>\n",
       "      <th>1965</th>\n",
       "      <th>...</th>\n",
       "      <th>2013</th>\n",
       "      <th>2014</th>\n",
       "      <th>2015</th>\n",
       "      <th>2016</th>\n",
       "      <th>2017</th>\n",
       "      <th>2018</th>\n",
       "      <th>2019</th>\n",
       "      <th>2020</th>\n",
       "      <th>2021</th>\n",
       "      <th>Unnamed: 66</th>\n",
       "    </tr>\n",
       "  </thead>\n",
       "  <tbody>\n",
       "    <tr>\n",
       "      <th>92</th>\n",
       "      <td>Guatemala</td>\n",
       "      <td>GTM</td>\n",
       "      <td>GDP per capita (current US$)</td>\n",
       "      <td>NY.GDP.PCAP.CD</td>\n",
       "      <td>252.756171</td>\n",
       "      <td>253.22729</td>\n",
       "      <td>261.179134</td>\n",
       "      <td>280.096636</td>\n",
       "      <td>279.930465</td>\n",
       "      <td>278.828138</td>\n",
       "      <td>...</td>\n",
       "      <td>3522.773706</td>\n",
       "      <td>3779.642336</td>\n",
       "      <td>3994.636913</td>\n",
       "      <td>4173.301666</td>\n",
       "      <td>4454.04815</td>\n",
       "      <td>4478.424646</td>\n",
       "      <td>4638.634943</td>\n",
       "      <td>4603.339643</td>\n",
       "      <td>5025.575573</td>\n",
       "      <td>NaN</td>\n",
       "    </tr>\n",
       "  </tbody>\n",
       "</table>\n",
       "<p>1 rows × 67 columns</p>\n",
       "</div>"
      ],
      "text/plain": [
       "   Country Name Country Code                Indicator Name  Indicator Code  \\\n",
       "92    Guatemala          GTM  GDP per capita (current US$)  NY.GDP.PCAP.CD   \n",
       "\n",
       "          1960       1961        1962        1963        1964        1965  \\\n",
       "92  252.756171  253.22729  261.179134  280.096636  279.930465  278.828138   \n",
       "\n",
       "    ...         2013         2014         2015         2016        2017  \\\n",
       "92  ...  3522.773706  3779.642336  3994.636913  4173.301666  4454.04815   \n",
       "\n",
       "           2018         2019         2020         2021  Unnamed: 66  \n",
       "92  4478.424646  4638.634943  4603.339643  5025.575573          NaN  \n",
       "\n",
       "[1 rows x 67 columns]"
      ]
     },
     "execution_count": 4,
     "metadata": {},
     "output_type": "execute_result"
    }
   ],
   "source": [
    "df[df['Country Name']=='Guatemala'].head()"
   ]
  },
  {
   "cell_type": "code",
   "execution_count": 5,
   "id": "0cc354aa",
   "metadata": {},
   "outputs": [],
   "source": [
    "paises = ['Guatemala','Mexico','El Salvador', 'Honduras','United States']"
   ]
  },
  {
   "cell_type": "code",
   "execution_count": 6,
   "id": "d8e666f2",
   "metadata": {},
   "outputs": [],
   "source": [
    "df = df[df['Country Name'].isin(paises)]"
   ]
  },
  {
   "cell_type": "code",
   "execution_count": 7,
   "id": "aeaeb15c",
   "metadata": {},
   "outputs": [],
   "source": [
    "df = df.melt(id_vars = ['Country Name','Country Code','Indicator Name','Indicator Code'],var_name = 'anio', value_name = 'value')"
   ]
  },
  {
   "cell_type": "code",
   "execution_count": 8,
   "id": "9cbcead8",
   "metadata": {},
   "outputs": [
    {
     "data": {
      "text/html": [
       "<div>\n",
       "<style scoped>\n",
       "    .dataframe tbody tr th:only-of-type {\n",
       "        vertical-align: middle;\n",
       "    }\n",
       "\n",
       "    .dataframe tbody tr th {\n",
       "        vertical-align: top;\n",
       "    }\n",
       "\n",
       "    .dataframe thead th {\n",
       "        text-align: right;\n",
       "    }\n",
       "</style>\n",
       "<table border=\"1\" class=\"dataframe\">\n",
       "  <thead>\n",
       "    <tr style=\"text-align: right;\">\n",
       "      <th></th>\n",
       "      <th>Country Name</th>\n",
       "      <th>Country Code</th>\n",
       "      <th>Indicator Name</th>\n",
       "      <th>Indicator Code</th>\n",
       "      <th>anio</th>\n",
       "      <th>value</th>\n",
       "    </tr>\n",
       "  </thead>\n",
       "  <tbody>\n",
       "    <tr>\n",
       "      <th>0</th>\n",
       "      <td>Guatemala</td>\n",
       "      <td>GTM</td>\n",
       "      <td>GDP per capita (current US$)</td>\n",
       "      <td>NY.GDP.PCAP.CD</td>\n",
       "      <td>1960</td>\n",
       "      <td>252.756171</td>\n",
       "    </tr>\n",
       "    <tr>\n",
       "      <th>1</th>\n",
       "      <td>Honduras</td>\n",
       "      <td>HND</td>\n",
       "      <td>GDP per capita (current US$)</td>\n",
       "      <td>NY.GDP.PCAP.CD</td>\n",
       "      <td>1960</td>\n",
       "      <td>164.644399</td>\n",
       "    </tr>\n",
       "    <tr>\n",
       "      <th>2</th>\n",
       "      <td>Mexico</td>\n",
       "      <td>MEX</td>\n",
       "      <td>GDP per capita (current US$)</td>\n",
       "      <td>NY.GDP.PCAP.CD</td>\n",
       "      <td>1960</td>\n",
       "      <td>345.230541</td>\n",
       "    </tr>\n",
       "    <tr>\n",
       "      <th>3</th>\n",
       "      <td>El Salvador</td>\n",
       "      <td>SLV</td>\n",
       "      <td>GDP per capita (current US$)</td>\n",
       "      <td>NY.GDP.PCAP.CD</td>\n",
       "      <td>1960</td>\n",
       "      <td>NaN</td>\n",
       "    </tr>\n",
       "    <tr>\n",
       "      <th>4</th>\n",
       "      <td>United States</td>\n",
       "      <td>USA</td>\n",
       "      <td>GDP per capita (current US$)</td>\n",
       "      <td>NY.GDP.PCAP.CD</td>\n",
       "      <td>1960</td>\n",
       "      <td>3007.123445</td>\n",
       "    </tr>\n",
       "  </tbody>\n",
       "</table>\n",
       "</div>"
      ],
      "text/plain": [
       "    Country Name Country Code                Indicator Name  Indicator Code  \\\n",
       "0      Guatemala          GTM  GDP per capita (current US$)  NY.GDP.PCAP.CD   \n",
       "1       Honduras          HND  GDP per capita (current US$)  NY.GDP.PCAP.CD   \n",
       "2         Mexico          MEX  GDP per capita (current US$)  NY.GDP.PCAP.CD   \n",
       "3    El Salvador          SLV  GDP per capita (current US$)  NY.GDP.PCAP.CD   \n",
       "4  United States          USA  GDP per capita (current US$)  NY.GDP.PCAP.CD   \n",
       "\n",
       "   anio        value  \n",
       "0  1960   252.756171  \n",
       "1  1960   164.644399  \n",
       "2  1960   345.230541  \n",
       "3  1960          NaN  \n",
       "4  1960  3007.123445  "
      ]
     },
     "execution_count": 8,
     "metadata": {},
     "output_type": "execute_result"
    }
   ],
   "source": [
    "df.head()"
   ]
  },
  {
   "cell_type": "code",
   "execution_count": 9,
   "id": "6b48233f",
   "metadata": {},
   "outputs": [],
   "source": [
    "df = df[df['anio']!= 'Unnamed: 66']"
   ]
  },
  {
   "cell_type": "code",
   "execution_count": 10,
   "id": "cbfedc07",
   "metadata": {},
   "outputs": [
    {
     "data": {
      "text/html": [
       "<div>\n",
       "<style scoped>\n",
       "    .dataframe tbody tr th:only-of-type {\n",
       "        vertical-align: middle;\n",
       "    }\n",
       "\n",
       "    .dataframe tbody tr th {\n",
       "        vertical-align: top;\n",
       "    }\n",
       "\n",
       "    .dataframe thead th {\n",
       "        text-align: right;\n",
       "    }\n",
       "</style>\n",
       "<table border=\"1\" class=\"dataframe\">\n",
       "  <thead>\n",
       "    <tr style=\"text-align: right;\">\n",
       "      <th></th>\n",
       "      <th>Country Name</th>\n",
       "      <th>Country Code</th>\n",
       "      <th>Indicator Name</th>\n",
       "      <th>Indicator Code</th>\n",
       "      <th>anio</th>\n",
       "      <th>value</th>\n",
       "    </tr>\n",
       "  </thead>\n",
       "  <tbody>\n",
       "    <tr>\n",
       "      <th>305</th>\n",
       "      <td>Guatemala</td>\n",
       "      <td>GTM</td>\n",
       "      <td>GDP per capita (current US$)</td>\n",
       "      <td>NY.GDP.PCAP.CD</td>\n",
       "      <td>2021</td>\n",
       "      <td>5025.575573</td>\n",
       "    </tr>\n",
       "    <tr>\n",
       "      <th>306</th>\n",
       "      <td>Honduras</td>\n",
       "      <td>HND</td>\n",
       "      <td>GDP per capita (current US$)</td>\n",
       "      <td>NY.GDP.PCAP.CD</td>\n",
       "      <td>2021</td>\n",
       "      <td>2831.033021</td>\n",
       "    </tr>\n",
       "    <tr>\n",
       "      <th>307</th>\n",
       "      <td>Mexico</td>\n",
       "      <td>MEX</td>\n",
       "      <td>GDP per capita (current US$)</td>\n",
       "      <td>NY.GDP.PCAP.CD</td>\n",
       "      <td>2021</td>\n",
       "      <td>9926.422768</td>\n",
       "    </tr>\n",
       "    <tr>\n",
       "      <th>308</th>\n",
       "      <td>El Salvador</td>\n",
       "      <td>SLV</td>\n",
       "      <td>GDP per capita (current US$)</td>\n",
       "      <td>NY.GDP.PCAP.CD</td>\n",
       "      <td>2021</td>\n",
       "      <td>4408.520365</td>\n",
       "    </tr>\n",
       "    <tr>\n",
       "      <th>309</th>\n",
       "      <td>United States</td>\n",
       "      <td>USA</td>\n",
       "      <td>GDP per capita (current US$)</td>\n",
       "      <td>NY.GDP.PCAP.CD</td>\n",
       "      <td>2021</td>\n",
       "      <td>69287.536588</td>\n",
       "    </tr>\n",
       "  </tbody>\n",
       "</table>\n",
       "</div>"
      ],
      "text/plain": [
       "      Country Name Country Code                Indicator Name  Indicator Code  \\\n",
       "305      Guatemala          GTM  GDP per capita (current US$)  NY.GDP.PCAP.CD   \n",
       "306       Honduras          HND  GDP per capita (current US$)  NY.GDP.PCAP.CD   \n",
       "307         Mexico          MEX  GDP per capita (current US$)  NY.GDP.PCAP.CD   \n",
       "308    El Salvador          SLV  GDP per capita (current US$)  NY.GDP.PCAP.CD   \n",
       "309  United States          USA  GDP per capita (current US$)  NY.GDP.PCAP.CD   \n",
       "\n",
       "     anio         value  \n",
       "305  2021   5025.575573  \n",
       "306  2021   2831.033021  \n",
       "307  2021   9926.422768  \n",
       "308  2021   4408.520365  \n",
       "309  2021  69287.536588  "
      ]
     },
     "execution_count": 10,
     "metadata": {},
     "output_type": "execute_result"
    }
   ],
   "source": [
    "df.tail()"
   ]
  },
  {
   "cell_type": "code",
   "execution_count": 11,
   "id": "aea98a01",
   "metadata": {},
   "outputs": [],
   "source": [
    "df = df[['Country Name','anio','value']]"
   ]
  },
  {
   "cell_type": "code",
   "execution_count": 12,
   "id": "1076197a",
   "metadata": {},
   "outputs": [
    {
     "data": {
      "text/html": [
       "<div>\n",
       "<style scoped>\n",
       "    .dataframe tbody tr th:only-of-type {\n",
       "        vertical-align: middle;\n",
       "    }\n",
       "\n",
       "    .dataframe tbody tr th {\n",
       "        vertical-align: top;\n",
       "    }\n",
       "\n",
       "    .dataframe thead th {\n",
       "        text-align: right;\n",
       "    }\n",
       "</style>\n",
       "<table border=\"1\" class=\"dataframe\">\n",
       "  <thead>\n",
       "    <tr style=\"text-align: right;\">\n",
       "      <th></th>\n",
       "      <th>Country Name</th>\n",
       "      <th>anio</th>\n",
       "      <th>value</th>\n",
       "    </tr>\n",
       "  </thead>\n",
       "  <tbody>\n",
       "    <tr>\n",
       "      <th>0</th>\n",
       "      <td>Guatemala</td>\n",
       "      <td>1960</td>\n",
       "      <td>252.756171</td>\n",
       "    </tr>\n",
       "    <tr>\n",
       "      <th>1</th>\n",
       "      <td>Honduras</td>\n",
       "      <td>1960</td>\n",
       "      <td>164.644399</td>\n",
       "    </tr>\n",
       "    <tr>\n",
       "      <th>2</th>\n",
       "      <td>Mexico</td>\n",
       "      <td>1960</td>\n",
       "      <td>345.230541</td>\n",
       "    </tr>\n",
       "    <tr>\n",
       "      <th>3</th>\n",
       "      <td>El Salvador</td>\n",
       "      <td>1960</td>\n",
       "      <td>NaN</td>\n",
       "    </tr>\n",
       "    <tr>\n",
       "      <th>4</th>\n",
       "      <td>United States</td>\n",
       "      <td>1960</td>\n",
       "      <td>3007.123445</td>\n",
       "    </tr>\n",
       "  </tbody>\n",
       "</table>\n",
       "</div>"
      ],
      "text/plain": [
       "    Country Name  anio        value\n",
       "0      Guatemala  1960   252.756171\n",
       "1       Honduras  1960   164.644399\n",
       "2         Mexico  1960   345.230541\n",
       "3    El Salvador  1960          NaN\n",
       "4  United States  1960  3007.123445"
      ]
     },
     "execution_count": 12,
     "metadata": {},
     "output_type": "execute_result"
    }
   ],
   "source": [
    "df.head()"
   ]
  },
  {
   "cell_type": "code",
   "execution_count": 13,
   "id": "e54fb735",
   "metadata": {},
   "outputs": [
    {
     "name": "stdout",
     "output_type": "stream",
     "text": [
      "<class 'pandas.core.frame.DataFrame'>\n",
      "Int64Index: 310 entries, 0 to 309\n",
      "Data columns (total 3 columns):\n",
      " #   Column        Non-Null Count  Dtype  \n",
      "---  ------        --------------  -----  \n",
      " 0   Country Name  310 non-null    object \n",
      " 1   anio          310 non-null    object \n",
      " 2   value         305 non-null    float64\n",
      "dtypes: float64(1), object(2)\n",
      "memory usage: 9.7+ KB\n"
     ]
    }
   ],
   "source": [
    "df.info()"
   ]
  },
  {
   "cell_type": "code",
   "execution_count": 14,
   "id": "4f7fa984",
   "metadata": {},
   "outputs": [],
   "source": [
    "df['anio']=df.anio.apply(int)"
   ]
  },
  {
   "cell_type": "code",
   "execution_count": 15,
   "id": "1be8d78a",
   "metadata": {},
   "outputs": [],
   "source": [
    "df=df[df['anio']>= 2000]"
   ]
  },
  {
   "cell_type": "code",
   "execution_count": 16,
   "id": "3d87fa46",
   "metadata": {},
   "outputs": [
    {
     "data": {
      "text/html": [
       "<div>\n",
       "<style scoped>\n",
       "    .dataframe tbody tr th:only-of-type {\n",
       "        vertical-align: middle;\n",
       "    }\n",
       "\n",
       "    .dataframe tbody tr th {\n",
       "        vertical-align: top;\n",
       "    }\n",
       "\n",
       "    .dataframe thead th {\n",
       "        text-align: right;\n",
       "    }\n",
       "</style>\n",
       "<table border=\"1\" class=\"dataframe\">\n",
       "  <thead>\n",
       "    <tr style=\"text-align: right;\">\n",
       "      <th></th>\n",
       "      <th>Country Name</th>\n",
       "      <th>anio</th>\n",
       "      <th>value</th>\n",
       "    </tr>\n",
       "  </thead>\n",
       "  <tbody>\n",
       "    <tr>\n",
       "      <th>200</th>\n",
       "      <td>Guatemala</td>\n",
       "      <td>2000</td>\n",
       "      <td>1664.298958</td>\n",
       "    </tr>\n",
       "    <tr>\n",
       "      <th>201</th>\n",
       "      <td>Honduras</td>\n",
       "      <td>2000</td>\n",
       "      <td>1093.108100</td>\n",
       "    </tr>\n",
       "    <tr>\n",
       "      <th>202</th>\n",
       "      <td>Mexico</td>\n",
       "      <td>2000</td>\n",
       "      <td>7157.814500</td>\n",
       "    </tr>\n",
       "    <tr>\n",
       "      <th>203</th>\n",
       "      <td>El Salvador</td>\n",
       "      <td>2000</td>\n",
       "      <td>2001.540049</td>\n",
       "    </tr>\n",
       "    <tr>\n",
       "      <th>204</th>\n",
       "      <td>United States</td>\n",
       "      <td>2000</td>\n",
       "      <td>36329.956073</td>\n",
       "    </tr>\n",
       "  </tbody>\n",
       "</table>\n",
       "</div>"
      ],
      "text/plain": [
       "      Country Name  anio         value\n",
       "200      Guatemala  2000   1664.298958\n",
       "201       Honduras  2000   1093.108100\n",
       "202         Mexico  2000   7157.814500\n",
       "203    El Salvador  2000   2001.540049\n",
       "204  United States  2000  36329.956073"
      ]
     },
     "execution_count": 16,
     "metadata": {},
     "output_type": "execute_result"
    }
   ],
   "source": [
    "df.head()"
   ]
  },
  {
   "cell_type": "code",
   "execution_count": 17,
   "id": "6b60b6d8",
   "metadata": {},
   "outputs": [],
   "source": [
    "prueba = df[df['anio']==2000]"
   ]
  },
  {
   "cell_type": "code",
   "execution_count": 18,
   "id": "8aaefb39",
   "metadata": {},
   "outputs": [
    {
     "data": {
      "text/html": [
       "<div>\n",
       "<style scoped>\n",
       "    .dataframe tbody tr th:only-of-type {\n",
       "        vertical-align: middle;\n",
       "    }\n",
       "\n",
       "    .dataframe tbody tr th {\n",
       "        vertical-align: top;\n",
       "    }\n",
       "\n",
       "    .dataframe thead th {\n",
       "        text-align: right;\n",
       "    }\n",
       "</style>\n",
       "<table border=\"1\" class=\"dataframe\">\n",
       "  <thead>\n",
       "    <tr style=\"text-align: right;\">\n",
       "      <th></th>\n",
       "      <th>Country Name</th>\n",
       "      <th>anio</th>\n",
       "      <th>value</th>\n",
       "    </tr>\n",
       "  </thead>\n",
       "  <tbody>\n",
       "    <tr>\n",
       "      <th>200</th>\n",
       "      <td>Guatemala</td>\n",
       "      <td>2000</td>\n",
       "      <td>1664.298958</td>\n",
       "    </tr>\n",
       "    <tr>\n",
       "      <th>201</th>\n",
       "      <td>Honduras</td>\n",
       "      <td>2000</td>\n",
       "      <td>1093.108100</td>\n",
       "    </tr>\n",
       "    <tr>\n",
       "      <th>202</th>\n",
       "      <td>Mexico</td>\n",
       "      <td>2000</td>\n",
       "      <td>7157.814500</td>\n",
       "    </tr>\n",
       "    <tr>\n",
       "      <th>203</th>\n",
       "      <td>El Salvador</td>\n",
       "      <td>2000</td>\n",
       "      <td>2001.540049</td>\n",
       "    </tr>\n",
       "    <tr>\n",
       "      <th>204</th>\n",
       "      <td>United States</td>\n",
       "      <td>2000</td>\n",
       "      <td>36329.956073</td>\n",
       "    </tr>\n",
       "  </tbody>\n",
       "</table>\n",
       "</div>"
      ],
      "text/plain": [
       "      Country Name  anio         value\n",
       "200      Guatemala  2000   1664.298958\n",
       "201       Honduras  2000   1093.108100\n",
       "202         Mexico  2000   7157.814500\n",
       "203    El Salvador  2000   2001.540049\n",
       "204  United States  2000  36329.956073"
      ]
     },
     "execution_count": 18,
     "metadata": {},
     "output_type": "execute_result"
    }
   ],
   "source": [
    "prueba.head()"
   ]
  },
  {
   "cell_type": "code",
   "execution_count": 19,
   "id": "b381ad26",
   "metadata": {},
   "outputs": [],
   "source": [
    "GDP = prueba.value"
   ]
  },
  {
   "cell_type": "code",
   "execution_count": 20,
   "id": "2d3c0af9",
   "metadata": {},
   "outputs": [],
   "source": [
    "GDP = GDP.to_numpy()"
   ]
  },
  {
   "cell_type": "code",
   "execution_count": 21,
   "id": "e3ac7a0e",
   "metadata": {},
   "outputs": [
    {
     "data": {
      "text/plain": [
       "array([ 1664.29895827,  1093.10810014,  7157.81449986,  2001.54004888,\n",
       "       36329.95607271])"
      ]
     },
     "execution_count": 21,
     "metadata": {},
     "output_type": "execute_result"
    }
   ],
   "source": [
    "GDP"
   ]
  },
  {
   "cell_type": "code",
   "execution_count": 22,
   "id": "d66e0d71",
   "metadata": {},
   "outputs": [],
   "source": [
    "GDP_sort = np.sort(GDP)\n"
   ]
  },
  {
   "cell_type": "code",
   "execution_count": 23,
   "id": "70dd38b4",
   "metadata": {},
   "outputs": [
    {
     "data": {
      "text/plain": [
       "array([ 1093.10810014,  1664.29895827,  2001.54004888,  7157.81449986,\n",
       "       36329.95607271])"
      ]
     },
     "execution_count": 23,
     "metadata": {},
     "output_type": "execute_result"
    }
   ],
   "source": [
    "GDP_sort"
   ]
  },
  {
   "cell_type": "code",
   "execution_count": 24,
   "id": "8c98dcde",
   "metadata": {},
   "outputs": [],
   "source": [
    "p = 1. * np.arange(len(GDP_sort)) / float(len(GDP_sort) - 1)"
   ]
  },
  {
   "cell_type": "code",
   "execution_count": 25,
   "id": "b091b556",
   "metadata": {},
   "outputs": [],
   "source": [
    "CCDF = 1-p"
   ]
  },
  {
   "cell_type": "code",
   "execution_count": 26,
   "id": "f21097e4",
   "metadata": {},
   "outputs": [],
   "source": [
    "CCDF = np.array([1.  , 0.75, 0.5 , 0.25, 0.01  ])"
   ]
  },
  {
   "cell_type": "code",
   "execution_count": 27,
   "id": "b8e231fb",
   "metadata": {},
   "outputs": [
    {
     "data": {
      "text/plain": [
       "Text(0, 0.5, 'CCDF')"
      ]
     },
     "execution_count": 27,
     "metadata": {},
     "output_type": "execute_result"
    },
    {
     "data": {
      "image/png": "[encoded data removed]",
      "text/plain": [
       "<Figure size 432x288 with 1 Axes>"
      ]
     },
     "metadata": {
      "needs_background": "light"
     },
     "output_type": "display_data"
    }
   ],
   "source": [
    "fig = plt.figure()\n",
    "fig.suptitle('CDF of data points')\n",
    "ax2 = fig.add_subplot(111)\n",
    "ax2.plot(GDP_sort, CCDF)\n",
    "ax2.set_xlabel('sorted_GDP')\n",
    "ax2.set_ylabel('CCDF')"
   ]
  },
  {
   "cell_type": "code",
   "execution_count": 28,
   "id": "bf385f8b",
   "metadata": {},
   "outputs": [
    {
     "data": {
      "image/png": "[encoded data removed]",
      "text/plain": [
       "<Figure size 432x288 with 1 Axes>"
      ]
     },
     "metadata": {
      "needs_background": "light"
     },
     "output_type": "display_data"
    }
   ],
   "source": [
    "fig = plt.figure()\n",
    "fig.suptitle('CDF of data points')\n",
    "ax2 = fig.add_subplot(111)\n",
    "ax2.plot(GDP_sort, CCDF)\n",
    "ax2.set_xlabel('sorted_GDP')\n",
    "ax2.set_ylabel('CCDF')\n",
    "plt.xscale(\"log\")\n",
    "plt.yscale(\"log\")\n"
   ]
  },
  {
   "cell_type": "code",
   "execution_count": 29,
   "id": "855f7f9f",
   "metadata": {},
   "outputs": [
    {
     "data": {
      "text/plain": [
       "array([ 1093.10810014,  1664.29895827,  2001.54004888,  7157.81449986,\n",
       "       36329.95607271])"
      ]
     },
     "execution_count": 29,
     "metadata": {},
     "output_type": "execute_result"
    }
   ],
   "source": [
    "GDP_sort"
   ]
  },
  {
   "cell_type": "code",
   "execution_count": 30,
   "id": "1667f99d",
   "metadata": {},
   "outputs": [
    {
     "data": {
      "text/plain": [
       "array([1.  , 0.75, 0.5 , 0.25, 0.01])"
      ]
     },
     "execution_count": 30,
     "metadata": {},
     "output_type": "execute_result"
    }
   ],
   "source": [
    "CCDF"
   ]
  },
  {
   "cell_type": "code",
   "execution_count": 31,
   "id": "f0dcb85e",
   "metadata": {},
   "outputs": [],
   "source": [
    "from scipy.stats import rv_continuous"
   ]
  },
  {
   "cell_type": "code",
   "execution_count": 32,
   "id": "e87cd988",
   "metadata": {},
   "outputs": [
    {
     "ename": "TypeError",
     "evalue": "cdf() missing 1 required positional argument: 'self'",
     "output_type": "error",
     "traceback": [
      "\u001b[0;31m---------------------------------------------------------------------------\u001b[0m",
      "\u001b[0;31mTypeError\u001b[0m                                 Traceback (most recent call last)",
      "\u001b[0;32m/tmp/ipykernel_16643/911397777.py\u001b[0m in \u001b[0;36m<module>\u001b[0;34m\u001b[0m\n\u001b[0;32m----> 1\u001b[0;31m \u001b[0mrv_continuous\u001b[0m\u001b[0;34m.\u001b[0m\u001b[0mcdf\u001b[0m\u001b[0;34m(\u001b[0m\u001b[0mx\u001b[0m\u001b[0;34m=\u001b[0m\u001b[0mGDP_sort\u001b[0m\u001b[0;34m)\u001b[0m\u001b[0;34m\u001b[0m\u001b[0;34m\u001b[0m\u001b[0m\n\u001b[0m",
      "\u001b[0;31mTypeError\u001b[0m: cdf() missing 1 required positional argument: 'self'"
     ]
    }
   ],
   "source": [
    "rv_continuous.cdf(x=GDP_sort)"
   ]
  },
  {
   "cell_type": "code",
   "execution_count": null,
   "id": "6b8a9c71",
   "metadata": {},
   "outputs": [],
   "source": []
  }
 ],
 "metadata": {
  "kernelspec": {
   "display_name": "Python 3 (ipykernel)",
   "language": "python",
   "name": "python3"
  },
  "language_info": {
   "codemirror_mode": {
    "name": "ipython",
    "version": 3
   },
   "file_extension": ".py",
   "mimetype": "text/x-python",
   "name": "python",
   "nbconvert_exporter": "python",
   "pygments_lexer": "ipython3",
   "version": "3.9.12"
  }
 },
 "nbformat": 4,
 "nbformat_minor": 5
}
